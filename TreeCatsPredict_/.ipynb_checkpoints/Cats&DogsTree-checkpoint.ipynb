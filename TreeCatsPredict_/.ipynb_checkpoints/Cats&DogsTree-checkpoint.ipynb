{
 "cells": [
  {
   "cell_type": "code",
   "execution_count": 25,
   "id": "4aed6f10",
   "metadata": {},
   "outputs": [],
   "source": [
    "import pandas as pd\n",
    "import numpy as np\n",
    "from sklearn import tree"
   ]
  },
  {
   "cell_type": "code",
   "execution_count": 26,
   "id": "4f9ff297",
   "metadata": {},
   "outputs": [],
   "source": [
    "# Загружаем данные для тренировки дерева и тестовые данные\n",
    "dogs_cats = pd.read_csv('dogs_n_cats.csv')\n",
    "test_dogs_cats = pd.read_json('test_dogs_n_cats.txt')"
   ]
  },
  {
   "cell_type": "code",
   "execution_count": 27,
   "id": "970bcd77",
   "metadata": {},
   "outputs": [],
   "source": [
    "# Создаем функцию для перевода текстовых значений к номинативным переменным\n",
    "def pets(view):\n",
    "    if view == 'собачка':\n",
    "        return 0\n",
    "    elif view == 'котик':\n",
    "        return 1"
   ]
  },
  {
   "cell_type": "code",
   "execution_count": 28,
   "id": "60ddde49",
   "metadata": {},
   "outputs": [],
   "source": [
    "# С помощью метода apply заменяем текстовые данные на номинативные переменные\n",
    "dogs_cats['Питомец'] = dogs_cats['Вид'].apply(pets)"
   ]
  },
  {
   "cell_type": "code",
   "execution_count": 29,
   "id": "ad311210",
   "metadata": {},
   "outputs": [
    {
     "data": {
      "text/html": [
       "<div>\n",
       "<style scoped>\n",
       "    .dataframe tbody tr th:only-of-type {\n",
       "        vertical-align: middle;\n",
       "    }\n",
       "\n",
       "    .dataframe tbody tr th {\n",
       "        vertical-align: top;\n",
       "    }\n",
       "\n",
       "    .dataframe thead th {\n",
       "        text-align: right;\n",
       "    }\n",
       "</style>\n",
       "<table border=\"1\" class=\"dataframe\">\n",
       "  <thead>\n",
       "    <tr style=\"text-align: right;\">\n",
       "      <th></th>\n",
       "      <th>Длина</th>\n",
       "      <th>Высота</th>\n",
       "      <th>Шерстист</th>\n",
       "      <th>Гавкает</th>\n",
       "      <th>Лазает по деревьям</th>\n",
       "      <th>Питомец</th>\n",
       "    </tr>\n",
       "  </thead>\n",
       "  <tbody>\n",
       "    <tr>\n",
       "      <th>0</th>\n",
       "      <td>15</td>\n",
       "      <td>18.0</td>\n",
       "      <td>1</td>\n",
       "      <td>1</td>\n",
       "      <td>0</td>\n",
       "      <td>0</td>\n",
       "    </tr>\n",
       "    <tr>\n",
       "      <th>1</th>\n",
       "      <td>20</td>\n",
       "      <td>24.0</td>\n",
       "      <td>1</td>\n",
       "      <td>0</td>\n",
       "      <td>0</td>\n",
       "      <td>0</td>\n",
       "    </tr>\n",
       "    <tr>\n",
       "      <th>2</th>\n",
       "      <td>34</td>\n",
       "      <td>40.8</td>\n",
       "      <td>1</td>\n",
       "      <td>1</td>\n",
       "      <td>0</td>\n",
       "      <td>0</td>\n",
       "    </tr>\n",
       "    <tr>\n",
       "      <th>3</th>\n",
       "      <td>26</td>\n",
       "      <td>31.2</td>\n",
       "      <td>1</td>\n",
       "      <td>1</td>\n",
       "      <td>0</td>\n",
       "      <td>0</td>\n",
       "    </tr>\n",
       "    <tr>\n",
       "      <th>4</th>\n",
       "      <td>16</td>\n",
       "      <td>19.2</td>\n",
       "      <td>1</td>\n",
       "      <td>1</td>\n",
       "      <td>0</td>\n",
       "      <td>0</td>\n",
       "    </tr>\n",
       "  </tbody>\n",
       "</table>\n",
       "</div>"
      ],
      "text/plain": [
       "   Длина  Высота  Шерстист  Гавкает  Лазает по деревьям  Питомец\n",
       "0     15    18.0         1        1                   0        0\n",
       "1     20    24.0         1        0                   0        0\n",
       "2     34    40.8         1        1                   0        0\n",
       "3     26    31.2         1        1                   0        0\n",
       "4     16    19.2         1        1                   0        0"
      ]
     },
     "execution_count": 29,
     "metadata": {},
     "output_type": "execute_result"
    }
   ],
   "source": [
    "# Удаляем колонку с текстовыми данными\n",
    "dogs_cats = dogs_cats.drop(columns='Вид',axis=1)\n",
    "dogs_cats.head()"
   ]
  },
  {
   "cell_type": "code",
   "execution_count": 30,
   "id": "643e8d27",
   "metadata": {},
   "outputs": [],
   "source": [
    "# Создаем переменные для обучения дерева\n",
    "X_train = dogs_cats.drop(['Питомец'],axis=1)\n",
    "Y_train = dogs_cats['Питомец']"
   ]
  },
  {
   "cell_type": "code",
   "execution_count": 31,
   "id": "f8f37fc4",
   "metadata": {},
   "outputs": [
    {
     "data": {
      "text/plain": [
       "DecisionTreeClassifier(criterion='entropy')"
      ]
     },
     "execution_count": 31,
     "metadata": {},
     "output_type": "execute_result"
    }
   ],
   "source": [
    "clf = tree.DecisionTreeClassifier(criterion='entropy') # Создаем дерево\n",
    "clf.fit(X_train, Y_train) # Обучаем дерево на данных"
   ]
  },
  {
   "cell_type": "code",
   "execution_count": 32,
   "id": "f2be3c3d",
   "metadata": {},
   "outputs": [
    {
     "data": {
      "text/html": [
       "<div>\n",
       "<style scoped>\n",
       "    .dataframe tbody tr th:only-of-type {\n",
       "        vertical-align: middle;\n",
       "    }\n",
       "\n",
       "    .dataframe tbody tr th {\n",
       "        vertical-align: top;\n",
       "    }\n",
       "\n",
       "    .dataframe thead th {\n",
       "        text-align: right;\n",
       "    }\n",
       "</style>\n",
       "<table border=\"1\" class=\"dataframe\">\n",
       "  <thead>\n",
       "    <tr style=\"text-align: right;\">\n",
       "      <th></th>\n",
       "      <th>Длина</th>\n",
       "      <th>Высота</th>\n",
       "      <th>Шерстист</th>\n",
       "      <th>Гавкает</th>\n",
       "      <th>Лазает по деревьям</th>\n",
       "    </tr>\n",
       "  </thead>\n",
       "  <tbody>\n",
       "    <tr>\n",
       "      <th>0</th>\n",
       "      <td>28</td>\n",
       "      <td>33.6</td>\n",
       "      <td>1</td>\n",
       "      <td>1</td>\n",
       "      <td>0</td>\n",
       "    </tr>\n",
       "    <tr>\n",
       "      <th>1</th>\n",
       "      <td>25</td>\n",
       "      <td>30.0</td>\n",
       "      <td>1</td>\n",
       "      <td>1</td>\n",
       "      <td>0</td>\n",
       "    </tr>\n",
       "    <tr>\n",
       "      <th>2</th>\n",
       "      <td>16</td>\n",
       "      <td>19.2</td>\n",
       "      <td>1</td>\n",
       "      <td>1</td>\n",
       "      <td>0</td>\n",
       "    </tr>\n",
       "    <tr>\n",
       "      <th>3</th>\n",
       "      <td>28</td>\n",
       "      <td>33.6</td>\n",
       "      <td>1</td>\n",
       "      <td>1</td>\n",
       "      <td>0</td>\n",
       "    </tr>\n",
       "    <tr>\n",
       "      <th>4</th>\n",
       "      <td>21</td>\n",
       "      <td>25.2</td>\n",
       "      <td>1</td>\n",
       "      <td>1</td>\n",
       "      <td>0</td>\n",
       "    </tr>\n",
       "  </tbody>\n",
       "</table>\n",
       "</div>"
      ],
      "text/plain": [
       "   Длина  Высота  Шерстист  Гавкает  Лазает по деревьям\n",
       "0     28    33.6         1        1                   0\n",
       "1     25    30.0         1        1                   0\n",
       "2     16    19.2         1        1                   0\n",
       "3     28    33.6         1        1                   0\n",
       "4     21    25.2         1        1                   0"
      ]
     },
     "execution_count": 32,
     "metadata": {},
     "output_type": "execute_result"
    }
   ],
   "source": [
    "test_dogs_cats.head()"
   ]
  },
  {
   "cell_type": "code",
   "execution_count": 33,
   "id": "6f354470",
   "metadata": {},
   "outputs": [],
   "source": [
    "X_test = test_dogs_cats"
   ]
  },
  {
   "cell_type": "code",
   "execution_count": 34,
   "id": "27f884d4",
   "metadata": {},
   "outputs": [
    {
     "data": {
      "text/plain": [
       "46"
      ]
     },
     "execution_count": 34,
     "metadata": {},
     "output_type": "execute_result"
    }
   ],
   "source": [
    "clf.predict(X_test).sum() # Предсказываем количество котиков в тестовом датасете"
   ]
  },
  {
   "cell_type": "code",
   "execution_count": null,
   "id": "59146e32",
   "metadata": {},
   "outputs": [],
   "source": []
  },
  {
   "cell_type": "code",
   "execution_count": null,
   "id": "83251c1f",
   "metadata": {},
   "outputs": [],
   "source": []
  }
 ],
 "metadata": {
  "kernelspec": {
   "display_name": "Python 3",
   "language": "python",
   "name": "python3"
  },
  "language_info": {
   "codemirror_mode": {
    "name": "ipython",
    "version": 3
   },
   "file_extension": ".py",
   "mimetype": "text/x-python",
   "name": "python",
   "nbconvert_exporter": "python",
   "pygments_lexer": "ipython3",
   "version": "3.8.8"
  }
 },
 "nbformat": 4,
 "nbformat_minor": 5
}
