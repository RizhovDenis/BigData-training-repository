{
 "cells": [
  {
   "cell_type": "markdown",
   "id": "2b07fbf8",
   "metadata": {},
   "source": [
    "1. Бизнес-проблема: мы считаем, что конверсии из визита в покупку в нашем магазине недостаточно высоки. Мы посмотрели на страницы конкурентов и поняли, что у нас есть возможность увеличить объем продаж, если мы еще немного изменим дизайн страницы с каталогом продукции.\n",
    "\n",
    "2. Гипотеза: предполагается, что добавление видео с процессом приготовления вкусностей мотивирует к их покупке и позволяет добиться двух эффектов:\n",
    "\n",
    "- повышение конверсии из визита в оплату (больше людей захотят купить нашу продукцию)\n",
    "- как минимум, не снижение среднего чека покупки, а в идеале — увеличение\n",
    "3. Ожидаемые действия пользователей: мы ожидаем, что, увидев видео с процессом приготовления вкусностей вместе с описанием продукции, больше людей захотят сделать покупку, а возможно — в среднем будут покупать больше продукции в одном заказе.\n",
    "\n",
    "4. Эксперимент будет считаться успешным, если:\n",
    "\n",
    "- конверсия из визита в покупку с окном в 7 дней повысится\n",
    "- средний чек покупки не снизится"
   ]
  },
  {
   "cell_type": "code",
   "execution_count": 7,
   "id": "f058c2a8",
   "metadata": {},
   "outputs": [],
   "source": [
    "# Нулевая гипотеза - статистически значимые значения между тестовой и контрольной группами не обнаружены\n",
    "# Альтернативная гипотеза - статистически значимые значения между тестовой и контрольной группами обнаружены"
   ]
  },
  {
   "cell_type": "code",
   "execution_count": 8,
   "id": "a4fb600c",
   "metadata": {},
   "outputs": [],
   "source": [
    "# Загружаю необходимые библиотеки для решения задачи\n",
    "import pandas as pd\n",
    "import numpy as np \n",
    "import matplotlib.pyplot as plt\n",
    "import seaborn as sns\n",
    "import statsmodels.stats.proportion as proportion\n",
    "import statsmodels.stats.power as smp\n",
    "import bootstrapped.bootstrap as bs\n",
    "import bootstrapped.stats_functions as bs_stats\n",
    "import bootstrapped.compare_functions as bs_compare"
   ]
  },
  {
   "cell_type": "code",
   "execution_count": 9,
   "id": "15b83e17",
   "metadata": {},
   "outputs": [
    {
     "data": {
      "text/html": [
       "<div>\n",
       "<style scoped>\n",
       "    .dataframe tbody tr th:only-of-type {\n",
       "        vertical-align: middle;\n",
       "    }\n",
       "\n",
       "    .dataframe tbody tr th {\n",
       "        vertical-align: top;\n",
       "    }\n",
       "\n",
       "    .dataframe thead th {\n",
       "        text-align: right;\n",
       "    }\n",
       "</style>\n",
       "<table border=\"1\" class=\"dataframe\">\n",
       "  <thead>\n",
       "    <tr style=\"text-align: right;\">\n",
       "      <th></th>\n",
       "      <th>user_id</th>\n",
       "      <th>main_page_viewed_at</th>\n",
       "      <th>order_completed_at</th>\n",
       "      <th>time_to_order</th>\n",
       "    </tr>\n",
       "  </thead>\n",
       "  <tbody>\n",
       "    <tr>\n",
       "      <th>0</th>\n",
       "      <td>959238</td>\n",
       "      <td>2020-11-20 23:55:02.759000+00:00</td>\n",
       "      <td>2020-11-30 02:22:32.759000+00:00</td>\n",
       "      <td>9.102431</td>\n",
       "    </tr>\n",
       "    <tr>\n",
       "      <th>1</th>\n",
       "      <td>337366</td>\n",
       "      <td>2020-12-05 23:41:42.244000+00:00</td>\n",
       "      <td>2020-12-12 22:25:52.244000+00:00</td>\n",
       "      <td>6.947338</td>\n",
       "    </tr>\n",
       "    <tr>\n",
       "      <th>2</th>\n",
       "      <td>259956</td>\n",
       "      <td>2020-11-20 23:33:53.269000+00:00</td>\n",
       "      <td>2020-11-25 13:08:03.269000+00:00</td>\n",
       "      <td>4.565394</td>\n",
       "    </tr>\n",
       "    <tr>\n",
       "      <th>3</th>\n",
       "      <td>534280</td>\n",
       "      <td>2020-11-28 23:44:56.556000+00:00</td>\n",
       "      <td>2020-12-05 10:14:06.556000+00:00</td>\n",
       "      <td>6.436921</td>\n",
       "    </tr>\n",
       "    <tr>\n",
       "      <th>4</th>\n",
       "      <td>795121</td>\n",
       "      <td>2020-11-18 23:59:56.236000+00:00</td>\n",
       "      <td>2020-11-27 02:38:16.236000+00:00</td>\n",
       "      <td>8.109954</td>\n",
       "    </tr>\n",
       "  </tbody>\n",
       "</table>\n",
       "</div>"
      ],
      "text/plain": [
       "   user_id              main_page_viewed_at               order_completed_at  \\\n",
       "0   959238 2020-11-20 23:55:02.759000+00:00 2020-11-30 02:22:32.759000+00:00   \n",
       "1   337366 2020-12-05 23:41:42.244000+00:00 2020-12-12 22:25:52.244000+00:00   \n",
       "2   259956 2020-11-20 23:33:53.269000+00:00 2020-11-25 13:08:03.269000+00:00   \n",
       "3   534280 2020-11-28 23:44:56.556000+00:00 2020-12-05 10:14:06.556000+00:00   \n",
       "4   795121 2020-11-18 23:59:56.236000+00:00 2020-11-27 02:38:16.236000+00:00   \n",
       "\n",
       "   time_to_order  \n",
       "0       9.102431  \n",
       "1       6.947338  \n",
       "2       4.565394  \n",
       "3       6.436921  \n",
       "4       8.109954  "
      ]
     },
     "execution_count": 9,
     "metadata": {},
     "output_type": "execute_result"
    }
   ],
   "source": [
    "# Загружаю данные. Тут даты просмотра страницы, даты оформления заказа и разность\n",
    "historical_data = pd.read_csv('investigate_window.csv', parse_dates=['main_page_viewed_at','order_completed_at'], index_col = 0)\n",
    "historical_data.head()"
   ]
  },
  {
   "cell_type": "code",
   "execution_count": 10,
   "id": "bbc97242",
   "metadata": {},
   "outputs": [
    {
     "data": {
      "text/plain": [
       "7.1"
      ]
     },
     "execution_count": 10,
     "metadata": {},
     "output_type": "execute_result"
    }
   ],
   "source": [
    "prec_X = round(np.percentile(historical_data['time_to_order'],95),1) #Определяем перцентиль соответствующий 7 дням(недели)\n",
    "prec_X"
   ]
  },
  {
   "cell_type": "code",
   "execution_count": 11,
   "id": "b8e18364",
   "metadata": {},
   "outputs": [
    {
     "data": {
      "text/plain": [
       "<Figure size 1152x648 with 0 Axes>"
      ]
     },
     "metadata": {},
     "output_type": "display_data"
    },
    {
     "data": {
      "image/png": "[encoded data removed]",
      "text/plain": [
       "<Figure size 360x360 with 1 Axes>"
      ]
     },
     "metadata": {
      "needs_background": "light"
     },
     "output_type": "display_data"
    }
   ],
   "source": [
    "# Строим гистаграмму распределения между первым заходом на сайт и покупкой\n",
    "plt.figure(figsize=(16,9))\n",
    "sns.displot(historical_data['time_to_order']) #create histagram\n",
    "plt.vlines(prec_X, ymin=0, ymax=1000, linestyles = 'dashed', label = f'95-ый перцентиль – {prec_X} дней')\n",
    "plt.title('Распределение времени между заходом на сайт и покупкой')\n",
    "plt.xlabel('Количество дней')\n",
    "plt.ylabel('Количество покупок')\n",
    "\n",
    "plt.legend()\n",
    "plt.show()"
   ]
  },
  {
   "cell_type": "code",
   "execution_count": 12,
   "id": "99be8352",
   "metadata": {},
   "outputs": [
    {
     "data": {
      "text/plain": [
       "(150483, 7)"
      ]
     },
     "execution_count": 12,
     "metadata": {},
     "output_type": "execute_result"
    }
   ],
   "source": [
    "# Загружаем данные о посетителях страницы\n",
    "data = pd.read_csv('bakery_ab_test.csv', index_col = 0)\n",
    "data.shape"
   ]
  },
  {
   "cell_type": "code",
   "execution_count": 13,
   "id": "6fe832e4",
   "metadata": {},
   "outputs": [
    {
     "data": {
      "text/html": [
       "<div>\n",
       "<style scoped>\n",
       "    .dataframe tbody tr th:only-of-type {\n",
       "        vertical-align: middle;\n",
       "    }\n",
       "\n",
       "    .dataframe tbody tr th {\n",
       "        vertical-align: top;\n",
       "    }\n",
       "\n",
       "    .dataframe thead th {\n",
       "        text-align: right;\n",
       "    }\n",
       "</style>\n",
       "<table border=\"1\" class=\"dataframe\">\n",
       "  <thead>\n",
       "    <tr style=\"text-align: right;\">\n",
       "      <th></th>\n",
       "      <th>user_id</th>\n",
       "      <th>test_group</th>\n",
       "      <th>purchase_amount</th>\n",
       "      <th>geo_group</th>\n",
       "      <th>acquisition_channel</th>\n",
       "      <th>within_window</th>\n",
       "      <th>platform</th>\n",
       "    </tr>\n",
       "  </thead>\n",
       "  <tbody>\n",
       "    <tr>\n",
       "      <th>1</th>\n",
       "      <td>3738</td>\n",
       "      <td>test</td>\n",
       "      <td>306.639511</td>\n",
       "      <td>regions</td>\n",
       "      <td>target_direct</td>\n",
       "      <td>1</td>\n",
       "      <td>pc</td>\n",
       "    </tr>\n",
       "    <tr>\n",
       "      <th>2</th>\n",
       "      <td>3755</td>\n",
       "      <td>control</td>\n",
       "      <td>NaN</td>\n",
       "      <td>regions</td>\n",
       "      <td>target_direct</td>\n",
       "      <td>0</td>\n",
       "      <td>pc</td>\n",
       "    </tr>\n",
       "    <tr>\n",
       "      <th>3</th>\n",
       "      <td>3772</td>\n",
       "      <td>test</td>\n",
       "      <td>NaN</td>\n",
       "      <td>regions</td>\n",
       "      <td>context_brand</td>\n",
       "      <td>0</td>\n",
       "      <td>mobile</td>\n",
       "    </tr>\n",
       "    <tr>\n",
       "      <th>4</th>\n",
       "      <td>3789</td>\n",
       "      <td>control</td>\n",
       "      <td>NaN</td>\n",
       "      <td>spb</td>\n",
       "      <td>target_direct</td>\n",
       "      <td>0</td>\n",
       "      <td>pc</td>\n",
       "    </tr>\n",
       "    <tr>\n",
       "      <th>5</th>\n",
       "      <td>3806</td>\n",
       "      <td>test</td>\n",
       "      <td>NaN</td>\n",
       "      <td>regions</td>\n",
       "      <td>social_media</td>\n",
       "      <td>0</td>\n",
       "      <td>pc</td>\n",
       "    </tr>\n",
       "  </tbody>\n",
       "</table>\n",
       "</div>"
      ],
      "text/plain": [
       "   user_id test_group  purchase_amount geo_group acquisition_channel  \\\n",
       "1     3738       test       306.639511   regions       target_direct   \n",
       "2     3755    control              NaN   regions       target_direct   \n",
       "3     3772       test              NaN   regions       context_brand   \n",
       "4     3789    control              NaN       spb       target_direct   \n",
       "5     3806       test              NaN   regions        social_media   \n",
       "\n",
       "   within_window platform  \n",
       "1              1       pc  \n",
       "2              0       pc  \n",
       "3              0   mobile  \n",
       "4              0       pc  \n",
       "5              0       pc  "
      ]
     },
     "execution_count": 13,
     "metadata": {},
     "output_type": "execute_result"
    }
   ],
   "source": [
    "data.head()"
   ]
  },
  {
   "cell_type": "code",
   "execution_count": 14,
   "id": "784875e9",
   "metadata": {},
   "outputs": [],
   "source": [
    "# Исследую графически распределение пользователей по группам (гео группы, платформы, привлечение)\n",
    "# Для этого создаем функцию в которую передаем датафрейм, список групп, и принадлежность к тестовой/контрольной группе\n",
    "def plot_segment_distribution(df, segment_columns, test_factor):\n",
    "    for segment in segment_columns:\n",
    "        aggregated_data = df.groupby(by = [test_factor,segment])['user_id'].count().reset_index()\n",
    "        sns.catplot(x = segment,\n",
    "                   y = 'user_id',\n",
    "                   hue = test_factor, # different color in columns\n",
    "                   data = aggregated_data,\n",
    "                   kind ='bar',\n",
    "                   height = 4,\n",
    "                   aspect = 1.5)\n",
    "        plt.ylabel('Количество пользователей')"
   ]
  },
  {
   "cell_type": "code",
   "execution_count": 15,
   "id": "85c402cb",
   "metadata": {},
   "outputs": [
    {
     "data": {
      "image/png": "[encoded data removed]",
      "text/plain": [
       "<Figure size 502.5x288 with 1 Axes>"
      ]
     },
     "metadata": {
      "needs_background": "light"
     },
     "output_type": "display_data"
    },
    {
     "data": {
      "image/png": "[encoded data removed]",
      "text/plain": [
       "<Figure size 502.5x288 with 1 Axes>"
      ]
     },
     "metadata": {
      "needs_background": "light"
     },
     "output_type": "display_data"
    },
    {
     "data": {
      "image/png": "[encoded data removed]",
      "text/plain": [
       "<Figure size 502.5x288 with 1 Axes>"
      ]
     },
     "metadata": {
      "needs_background": "light"
     },
     "output_type": "display_data"
    }
   ],
   "source": [
    "plot_segment_distribution(data,\n",
    "                         ['geo_group','acquisition_channel','platform'],\n",
    "                         'test_group') "
   ]
  },
  {
   "cell_type": "code",
   "execution_count": 16,
   "id": "a33a9438",
   "metadata": {},
   "outputs": [
    {
     "data": {
      "text/html": [
       "<div>\n",
       "<style scoped>\n",
       "    .dataframe tbody tr th:only-of-type {\n",
       "        vertical-align: middle;\n",
       "    }\n",
       "\n",
       "    .dataframe tbody tr th {\n",
       "        vertical-align: top;\n",
       "    }\n",
       "\n",
       "    .dataframe thead th {\n",
       "        text-align: right;\n",
       "    }\n",
       "</style>\n",
       "<table border=\"1\" class=\"dataframe\">\n",
       "  <thead>\n",
       "    <tr style=\"text-align: right;\">\n",
       "      <th></th>\n",
       "      <th>test_group</th>\n",
       "      <th>count_users</th>\n",
       "      <th>count_client</th>\n",
       "      <th>mean_purchase_amount</th>\n",
       "      <th>conversion</th>\n",
       "    </tr>\n",
       "  </thead>\n",
       "  <tbody>\n",
       "    <tr>\n",
       "      <th>0</th>\n",
       "      <td>control</td>\n",
       "      <td>75210</td>\n",
       "      <td>22998</td>\n",
       "      <td>5170.864335</td>\n",
       "      <td>0.305784</td>\n",
       "    </tr>\n",
       "    <tr>\n",
       "      <th>1</th>\n",
       "      <td>test</td>\n",
       "      <td>75273</td>\n",
       "      <td>24427</td>\n",
       "      <td>5394.771589</td>\n",
       "      <td>0.324512</td>\n",
       "    </tr>\n",
       "  </tbody>\n",
       "</table>\n",
       "</div>"
      ],
      "text/plain": [
       "  test_group  count_users  count_client  mean_purchase_amount  conversion\n",
       "0    control        75210         22998           5170.864335    0.305784\n",
       "1       test        75273         24427           5394.771589    0.324512"
      ]
     },
     "execution_count": 16,
     "metadata": {},
     "output_type": "execute_result"
    }
   ],
   "source": [
    "# По графику видно, что распределение по платформам неравномерное, поэтому разделим пользователей по платформам.\n",
    "# Так же посмотрим метрики по общим данным\n",
    "# Для начала подготовим общие данные\n",
    "metrics = data.groupby('test_group', as_index = False).agg({'user_id':'count','within_window':'sum','purchase_amount':'mean'})\\\n",
    "                                    .rename(columns={'user_id':'count_users','within_window':'count_client','purchase_amount':'mean_purchase_amount'})\n",
    "metrics['conversion'] = metrics['count_client']/metrics['count_users']\n",
    "metrics"
   ]
  },
  {
   "cell_type": "code",
   "execution_count": 17,
   "id": "44eabe76",
   "metadata": {},
   "outputs": [
    {
     "data": {
      "text/html": [
       "<div>\n",
       "<style scoped>\n",
       "    .dataframe tbody tr th:only-of-type {\n",
       "        vertical-align: middle;\n",
       "    }\n",
       "\n",
       "    .dataframe tbody tr th {\n",
       "        vertical-align: top;\n",
       "    }\n",
       "\n",
       "    .dataframe thead th {\n",
       "        text-align: right;\n",
       "    }\n",
       "</style>\n",
       "<table border=\"1\" class=\"dataframe\">\n",
       "  <thead>\n",
       "    <tr style=\"text-align: right;\">\n",
       "      <th></th>\n",
       "      <th>test_group</th>\n",
       "      <th>count_users</th>\n",
       "      <th>count_client</th>\n",
       "      <th>mean_purchase_amount</th>\n",
       "      <th>conversion</th>\n",
       "    </tr>\n",
       "  </thead>\n",
       "  <tbody>\n",
       "    <tr>\n",
       "      <th>0</th>\n",
       "      <td>control</td>\n",
       "      <td>45112</td>\n",
       "      <td>13732</td>\n",
       "      <td>5200.121803</td>\n",
       "      <td>0.304398</td>\n",
       "    </tr>\n",
       "    <tr>\n",
       "      <th>1</th>\n",
       "      <td>test</td>\n",
       "      <td>60317</td>\n",
       "      <td>19659</td>\n",
       "      <td>5401.003720</td>\n",
       "      <td>0.325928</td>\n",
       "    </tr>\n",
       "  </tbody>\n",
       "</table>\n",
       "</div>"
      ],
      "text/plain": [
       "  test_group  count_users  count_client  mean_purchase_amount  conversion\n",
       "0    control        45112         13732           5200.121803    0.304398\n",
       "1       test        60317         19659           5401.003720    0.325928"
      ]
     },
     "execution_count": 17,
     "metadata": {},
     "output_type": "execute_result"
    }
   ],
   "source": [
    "# Данные о пользователях пк\n",
    "metrics_p = data.loc[data['platform'] == 'pc']\n",
    "metrics_pc = metrics_p.groupby('test_group', as_index = False).agg({'user_id':'count','within_window':'sum','purchase_amount':'mean'})\\\n",
    "                                                                .rename(columns={'user_id':'count_users','within_window':'count_client','purchase_amount':'mean_purchase_amount'})\n",
    "metrics_pc['conversion'] = metrics_pc['count_client']/metrics_pc['count_users']\n",
    "metrics_pc"
   ]
  },
  {
   "cell_type": "code",
   "execution_count": 18,
   "id": "ca044525",
   "metadata": {},
   "outputs": [
    {
     "data": {
      "text/html": [
       "<div>\n",
       "<style scoped>\n",
       "    .dataframe tbody tr th:only-of-type {\n",
       "        vertical-align: middle;\n",
       "    }\n",
       "\n",
       "    .dataframe tbody tr th {\n",
       "        vertical-align: top;\n",
       "    }\n",
       "\n",
       "    .dataframe thead th {\n",
       "        text-align: right;\n",
       "    }\n",
       "</style>\n",
       "<table border=\"1\" class=\"dataframe\">\n",
       "  <thead>\n",
       "    <tr style=\"text-align: right;\">\n",
       "      <th></th>\n",
       "      <th>test_group</th>\n",
       "      <th>count_users</th>\n",
       "      <th>count_client</th>\n",
       "      <th>mean_purchase_amount</th>\n",
       "      <th>conversion</th>\n",
       "    </tr>\n",
       "  </thead>\n",
       "  <tbody>\n",
       "    <tr>\n",
       "      <th>0</th>\n",
       "      <td>control</td>\n",
       "      <td>30098</td>\n",
       "      <td>9266</td>\n",
       "      <td>5127.505438</td>\n",
       "      <td>0.307861</td>\n",
       "    </tr>\n",
       "    <tr>\n",
       "      <th>1</th>\n",
       "      <td>test</td>\n",
       "      <td>14956</td>\n",
       "      <td>4768</td>\n",
       "      <td>5369.075812</td>\n",
       "      <td>0.318802</td>\n",
       "    </tr>\n",
       "  </tbody>\n",
       "</table>\n",
       "</div>"
      ],
      "text/plain": [
       "  test_group  count_users  count_client  mean_purchase_amount  conversion\n",
       "0    control        30098          9266           5127.505438    0.307861\n",
       "1       test        14956          4768           5369.075812    0.318802"
      ]
     },
     "execution_count": 18,
     "metadata": {},
     "output_type": "execute_result"
    }
   ],
   "source": [
    "# Данные о пользователях мобильной платформы\n",
    "metrics_mob = data.loc[data['platform'] == 'mobile']\n",
    "metrics_mobile = metrics_mob.groupby('test_group', as_index = False).agg({'user_id':'count','within_window':'sum','purchase_amount':'mean'})\\\n",
    "                                                                .rename(columns={'user_id':'count_users','within_window':'count_client','purchase_amount':'mean_purchase_amount'})\n",
    "metrics_mobile['conversion'] = metrics_mobile['count_client']/metrics_mobile['count_users']\n",
    "metrics_mobile"
   ]
  },
  {
   "cell_type": "code",
   "execution_count": 19,
   "id": "4a39a285",
   "metadata": {},
   "outputs": [
    {
     "data": {
      "text/plain": [
       "5.321539863368111e-15"
      ]
     },
     "execution_count": 19,
     "metadata": {},
     "output_type": "execute_result"
    }
   ],
   "source": [
    "# Посчитаем pvalue для каждой группы с помощью теста хи-квадрат, используя библиотеку statsmodels\n",
    "chi2stat, pval, table = proportion.proportions_chisquare(metrics['count_client'], metrics['count_users'])\n",
    "pval"
   ]
  },
  {
   "cell_type": "code",
   "execution_count": 20,
   "id": "53ff4155",
   "metadata": {},
   "outputs": [
    {
     "data": {
      "text/plain": [
       "1.0436637877855105e-13"
      ]
     },
     "execution_count": 20,
     "metadata": {},
     "output_type": "execute_result"
    }
   ],
   "source": [
    "chi2stat_pc, pval_pc, table_pc = proportion.proportions_chisquare(metrics_pc['count_client'], metrics_pc['count_users'])\n",
    "pval_pc"
   ]
  },
  {
   "cell_type": "code",
   "execution_count": 21,
   "id": "354edffa",
   "metadata": {},
   "outputs": [
    {
     "data": {
      "text/plain": [
       "0.018202784051985058"
      ]
     },
     "execution_count": 21,
     "metadata": {},
     "output_type": "execute_result"
    }
   ],
   "source": [
    "chi2stat_mobile, pval_mobile, table_mobile = proportion.proportions_chisquare(metrics_mobile['count_client'],metrics_mobile['count_users'])\n",
    "pval_mobile"
   ]
  },
  {
   "cell_type": "code",
   "execution_count": 22,
   "id": "f2f918f3",
   "metadata": {},
   "outputs": [
    {
     "name": "stdout",
     "output_type": "stream",
     "text": [
      "Статистическая значимость в общей группе True\n",
      "Статистическая значимость с пользователями pc True\n",
      "Статистическая значимость с пользователями mobile True\n"
     ]
    }
   ],
   "source": [
    "alpha = 0.05\n",
    "print('Статистическая значимость в общей группе', pval<alpha)\n",
    "print('Статистическая значимость с пользователями pc', pval_pc<alpha)\n",
    "print('Статистическая значимость с пользователями mobile', pval_mobile<alpha)\n",
    "# В результате анализа pvalue обнаружена статистическая значимость для трех групп"
   ]
  },
  {
   "cell_type": "code",
   "execution_count": 23,
   "id": "0ca2e4ff",
   "metadata": {},
   "outputs": [],
   "source": [
    "# Вычислим мощность теста. Проверим достаточное ли количество данных мы взяли\n",
    "chipower = smp.GofChisquarePower()\n",
    "def chi2_effect_size(p0, p1):\n",
    "    return np.sqrt(((p0 - p1)**2 / p0)) # Разница между двумя наблюдаемыми вариантами"
   ]
  },
  {
   "cell_type": "code",
   "execution_count": 24,
   "id": "bbef95c6",
   "metadata": {},
   "outputs": [],
   "source": [
    "# Для каждой группы выпишем конверсии контрольной и тестовой подгруппы. Выпишем минимальное количество пользователей\n",
    "conversion_control = metrics['conversion'].values[0] \n",
    "conversion_test = metrics['conversion'].values[1]\n",
    "nobs = min(metrics['count_users'])\n"
   ]
  },
  {
   "cell_type": "code",
   "execution_count": 25,
   "id": "2af7ad49",
   "metadata": {},
   "outputs": [],
   "source": [
    "conversion_control_pc = metrics_pc['conversion'].values[0]\n",
    "conversion_test_pc = metrics_pc['conversion'].values[1]\n",
    "nobs_pc = min(metrics_pc['count_users'])"
   ]
  },
  {
   "cell_type": "code",
   "execution_count": 26,
   "id": "ee326dec",
   "metadata": {},
   "outputs": [],
   "source": [
    "conversion_control_mobile = metrics_mobile['conversion'].values[0]\n",
    "conversion_test_mobile = metrics_mobile['conversion'].values[1]\n",
    "nobs_mobile = min(metrics_mobile['count_users'])"
   ]
  },
  {
   "cell_type": "code",
   "execution_count": 27,
   "id": "95e5301e",
   "metadata": {},
   "outputs": [
    {
     "data": {
      "text/plain": [
       "0.9290939440556412"
      ]
     },
     "execution_count": 27,
     "metadata": {},
     "output_type": "execute_result"
    }
   ],
   "source": [
    "# Находим мощность\n",
    "power = chipower.solve_power(chi2_effect_size(conversion_control, conversion_test), #Разница коэффициентов конверсий\n",
    "                             nobs = nobs, # Размер выборки\n",
    "                             alpha = pval, # Значение ошибки первого рода на наших данных\n",
    "                             power = None)\n",
    "power"
   ]
  },
  {
   "cell_type": "code",
   "execution_count": 28,
   "id": "958a1c0e",
   "metadata": {},
   "outputs": [
    {
     "data": {
      "text/plain": [
       "0.8032102103432757"
      ]
     },
     "execution_count": 28,
     "metadata": {},
     "output_type": "execute_result"
    }
   ],
   "source": [
    "power_pc = chipower.solve_power(chi2_effect_size(conversion_control_pc, conversion_test_pc),\n",
    "                                nobs = nobs_pc,\n",
    "                                alpha = pval_pc,\n",
    "                                power = None)\n",
    "power_pc"
   ]
  },
  {
   "cell_type": "code",
   "execution_count": 29,
   "id": "d9664f43",
   "metadata": {},
   "outputs": [
    {
     "data": {
      "text/plain": [
       "0.5199383109433952"
      ]
     },
     "execution_count": 29,
     "metadata": {},
     "output_type": "execute_result"
    }
   ],
   "source": [
    "power_mobile = chipower.solve_power(chi2_effect_size(conversion_control_mobile, conversion_test_mobile),\n",
    "                                nobs = nobs_mobile,\n",
    "                                alpha = pval_mobile,\n",
    "                                power = None)\n",
    "power_mobile\n",
    "# Мощность у общей и группы pc >= 80. Этого достаточно для отклонения нулевой гипотезы. Однако для пользователей мобил. мощность 51\n"
   ]
  },
  {
   "cell_type": "code",
   "execution_count": 30,
   "id": "6b13725b",
   "metadata": {},
   "outputs": [
    {
     "data": {
      "text/html": [
       "<div>\n",
       "<style scoped>\n",
       "    .dataframe tbody tr th:only-of-type {\n",
       "        vertical-align: middle;\n",
       "    }\n",
       "\n",
       "    .dataframe tbody tr th {\n",
       "        vertical-align: top;\n",
       "    }\n",
       "\n",
       "    .dataframe thead th {\n",
       "        text-align: right;\n",
       "    }\n",
       "</style>\n",
       "<table border=\"1\" class=\"dataframe\">\n",
       "  <thead>\n",
       "    <tr style=\"text-align: right;\">\n",
       "      <th></th>\n",
       "      <th>user_id</th>\n",
       "      <th>test_group</th>\n",
       "      <th>purchase_amount</th>\n",
       "      <th>geo_group</th>\n",
       "      <th>acquisition_channel</th>\n",
       "      <th>within_window</th>\n",
       "      <th>platform</th>\n",
       "    </tr>\n",
       "  </thead>\n",
       "  <tbody>\n",
       "    <tr>\n",
       "      <th>1</th>\n",
       "      <td>3738</td>\n",
       "      <td>test</td>\n",
       "      <td>306.639511</td>\n",
       "      <td>regions</td>\n",
       "      <td>target_direct</td>\n",
       "      <td>1</td>\n",
       "      <td>pc</td>\n",
       "    </tr>\n",
       "    <tr>\n",
       "      <th>2</th>\n",
       "      <td>3755</td>\n",
       "      <td>control</td>\n",
       "      <td>NaN</td>\n",
       "      <td>regions</td>\n",
       "      <td>target_direct</td>\n",
       "      <td>0</td>\n",
       "      <td>pc</td>\n",
       "    </tr>\n",
       "    <tr>\n",
       "      <th>3</th>\n",
       "      <td>3772</td>\n",
       "      <td>test</td>\n",
       "      <td>NaN</td>\n",
       "      <td>regions</td>\n",
       "      <td>context_brand</td>\n",
       "      <td>0</td>\n",
       "      <td>mobile</td>\n",
       "    </tr>\n",
       "    <tr>\n",
       "      <th>4</th>\n",
       "      <td>3789</td>\n",
       "      <td>control</td>\n",
       "      <td>NaN</td>\n",
       "      <td>spb</td>\n",
       "      <td>target_direct</td>\n",
       "      <td>0</td>\n",
       "      <td>pc</td>\n",
       "    </tr>\n",
       "    <tr>\n",
       "      <th>5</th>\n",
       "      <td>3806</td>\n",
       "      <td>test</td>\n",
       "      <td>NaN</td>\n",
       "      <td>regions</td>\n",
       "      <td>social_media</td>\n",
       "      <td>0</td>\n",
       "      <td>pc</td>\n",
       "    </tr>\n",
       "  </tbody>\n",
       "</table>\n",
       "</div>"
      ],
      "text/plain": [
       "   user_id test_group  purchase_amount geo_group acquisition_channel  \\\n",
       "1     3738       test       306.639511   regions       target_direct   \n",
       "2     3755    control              NaN   regions       target_direct   \n",
       "3     3772       test              NaN   regions       context_brand   \n",
       "4     3789    control              NaN       spb       target_direct   \n",
       "5     3806       test              NaN   regions        social_media   \n",
       "\n",
       "   within_window platform  \n",
       "1              1       pc  \n",
       "2              0       pc  \n",
       "3              0   mobile  \n",
       "4              0       pc  \n",
       "5              0       pc  "
      ]
     },
     "execution_count": 30,
     "metadata": {},
     "output_type": "execute_result"
    }
   ],
   "source": [
    "# Для оценки среднего чека воспользуемся бутстрапом, т.к у среднего чека большой разброс значений на разных пользователей, которые редко распределены нормально\n",
    "\n",
    "\n",
    "data.head()"
   ]
  },
  {
   "cell_type": "code",
   "execution_count": 31,
   "id": "092bde49",
   "metadata": {},
   "outputs": [
    {
     "name": "stderr",
     "output_type": "stream",
     "text": [
      "<ipython-input-31-9912bb00153d>:5: UserWarning: Boolean Series key will be reindexed to match DataFrame index.\n",
      "  test_pc = datapc[data['test_group'] == 'test']['purchase_amount'].dropna().values\n",
      "<ipython-input-31-9912bb00153d>:6: UserWarning: Boolean Series key will be reindexed to match DataFrame index.\n",
      "  control_pc = datapc[data['test_group'] == 'control']['purchase_amount'].dropna().values\n",
      "<ipython-input-31-9912bb00153d>:8: UserWarning: Boolean Series key will be reindexed to match DataFrame index.\n",
      "  test_mobile = datamobile[data['test_group'] == 'test']['purchase_amount'].dropna().values\n",
      "<ipython-input-31-9912bb00153d>:9: UserWarning: Boolean Series key will be reindexed to match DataFrame index.\n",
      "  control_mobile = datamobile[data['test_group'] == 'control']['purchase_amount'].dropna().values\n"
     ]
    }
   ],
   "source": [
    "# Приготовим данные\n",
    "test = data[data['test_group'] == 'test']['purchase_amount'].dropna().values\n",
    "control = data[data['test_group'] == 'control']['purchase_amount'].dropna().values\n",
    "datapc = data.loc[data['platform'] == 'pc']\n",
    "test_pc = datapc[data['test_group'] == 'test']['purchase_amount'].dropna().values\n",
    "control_pc = datapc[data['test_group'] == 'control']['purchase_amount'].dropna().values\n",
    "datamobile = data.loc[data['platform'] == 'mobile']\n",
    "test_mobile = datamobile[data['test_group'] == 'test']['purchase_amount'].dropna().values\n",
    "control_mobile = datamobile[data['test_group'] == 'control']['purchase_amount'].dropna().values"
   ]
  },
  {
   "cell_type": "code",
   "execution_count": 32,
   "id": "573ef212",
   "metadata": {},
   "outputs": [
    {
     "data": {
      "text/plain": [
       "array([205.62817167, 239.3750289 , 182.13451497, ..., 260.29349326,\n",
       "       206.35104999, 203.14369507])"
      ]
     },
     "execution_count": 32,
     "metadata": {},
     "output_type": "execute_result"
    }
   ],
   "source": [
    "# Воспользуемся библиотекой bootstrapped\n",
    "boot = bs.bootstrap_ab(test = test, ctrl = control,\n",
    "                       stat_func = bs_stats.mean, # Что мы хотим исследовать / среднее значение\n",
    "                       compare_func = bs_compare.difference, # как мы хотим исследовать / взять разницу между группами\n",
    "                       return_distribution = True)\n",
    "boot # массив разниц средних чеков групп"
   ]
  },
  {
   "cell_type": "code",
   "execution_count": 33,
   "id": "a07a7b7a",
   "metadata": {},
   "outputs": [
    {
     "data": {
      "text/plain": [
       "array([210.30559826, 166.07939468, 237.60708375, ..., 214.06417184,\n",
       "       184.41348891, 276.2734117 ])"
      ]
     },
     "execution_count": 33,
     "metadata": {},
     "output_type": "execute_result"
    }
   ],
   "source": [
    "boot_pc = bs.bootstrap_ab(test = test_pc, ctrl = control_pc,\n",
    "                         stat_func = bs_stats.mean,\n",
    "                         compare_func = bs_compare.difference,\n",
    "                         return_distribution = True)\n",
    "boot_pc"
   ]
  },
  {
   "cell_type": "code",
   "execution_count": 34,
   "id": "2da456c7",
   "metadata": {},
   "outputs": [
    {
     "data": {
      "text/plain": [
       "array([373.65954635, 307.62681068, 206.4275917 , ..., 290.95714153,\n",
       "       279.25754463, 224.94512546])"
      ]
     },
     "execution_count": 34,
     "metadata": {},
     "output_type": "execute_result"
    }
   ],
   "source": [
    "boot_mobile = bs.bootstrap_ab(test = test_mobile, ctrl = control_mobile,\n",
    "                         stat_func = bs_stats.mean,\n",
    "                         compare_func = bs_compare.difference,\n",
    "                         return_distribution = True)\n",
    "boot_mobile"
   ]
  },
  {
   "cell_type": "code",
   "execution_count": 35,
   "id": "6a0771af",
   "metadata": {},
   "outputs": [],
   "source": [
    "# Задаем размер интервала 95% \n",
    "borders = np.percentile(boot, [2.5, 97.5])\n",
    "borders_pc = np.percentile(boot_pc, [2.5, 97.5])\n",
    "borders_mobile = np.percentile(boot_mobile, [2.5, 97.5])"
   ]
  },
  {
   "cell_type": "code",
   "execution_count": 36,
   "id": "c811093f",
   "metadata": {},
   "outputs": [
    {
     "data": {
      "image/png": "[encoded data removed]",
      "text/plain": [
       "<Figure size 360x360 with 1 Axes>"
      ]
     },
     "metadata": {
      "needs_background": "light"
     },
     "output_type": "display_data"
    },
    {
     "data": {
      "image/png": "[encoded data removed]",
      "text/plain": [
       "<Figure size 360x360 with 1 Axes>"
      ]
     },
     "metadata": {
      "needs_background": "light"
     },
     "output_type": "display_data"
    },
    {
     "data": {
      "image/png": "[encoded data removed]",
      "text/plain": [
       "<Figure size 360x360 with 1 Axes>"
      ]
     },
     "metadata": {
      "needs_background": "light"
     },
     "output_type": "display_data"
    }
   ],
   "source": [
    "# Изображаем графически\n",
    "# общие данные\n",
    "sns.displot(boot) # функция построения распределения\n",
    "plt.rcParams['figure.figsize'] = (16, 9)\n",
    "plt.title('Bootstrap распределение разниц среднего чека')\n",
    "plt.vlines(0, # прямая на 0\n",
    "          ymin = 0,\n",
    "          ymax = 500,\n",
    "          linestyles = '--',\n",
    "          colors = 'r')\n",
    "plt.vlines(borders,\n",
    "          ymin = 0,\n",
    "          ymax = 500,\n",
    "          linestyles = '--',\n",
    "          colors = 'blue',\n",
    "          label = '95%-доверительный интервал')\n",
    "plt.legend()\n",
    "plt.show()\n",
    "\n",
    "#Для PC\n",
    "sns.displot(boot_pc) # функция построения распределения\n",
    "plt.rcParams['figure.figsize'] = (16, 9)\n",
    "plt.title('Bootstrap распределение разниц среднего чека пользователей PC')\n",
    "plt.vlines(0, # прямая на 0\n",
    "          ymin = 0,\n",
    "          ymax = 500,\n",
    "          linestyles = '--',\n",
    "          colors = 'r')\n",
    "plt.vlines(borders_pc,\n",
    "          ymin = 0,\n",
    "          ymax = 500,\n",
    "          linestyles = '--',\n",
    "          colors = 'blue',\n",
    "          label = '95%-доверительный интервал')\n",
    "plt.legend()\n",
    "plt.show()\n",
    "\n",
    "# Для mobile\n",
    "sns.displot(boot_mobile) # функция построения распределения\n",
    "plt.rcParams['figure.figsize'] = (16, 9)\n",
    "plt.title('Bootstrap распределение разниц среднего чека пользователей mobile')\n",
    "plt.vlines(0, # прямая на 0\n",
    "          ymin = 0,\n",
    "          ymax = 500,\n",
    "          linestyles = '--',\n",
    "          colors = 'r')\n",
    "plt.vlines(borders_mobile,\n",
    "          ymin = 0,\n",
    "          ymax = 500,\n",
    "          linestyles = '--',\n",
    "          colors = 'blue',\n",
    "          label = '95%-доверительный интервал')\n",
    "plt.legend()\n",
    "plt.show()"
   ]
  },
  {
   "cell_type": "code",
   "execution_count": 128,
   "id": "88a0136f",
   "metadata": {},
   "outputs": [],
   "source": [
    "# Во всех трех случаях 0 не входит в доверительный интервал"
   ]
  },
  {
   "cell_type": "markdown",
   "id": "044ae40b",
   "metadata": {},
   "source": [
    "# Итоги: \n",
    "- По результатам анализа конверсия из визита в покупку повысилась с окном в 7 дней\n",
    "- Средний чек повысился"
   ]
  },
  {
   "cell_type": "code",
   "execution_count": null,
   "id": "9abfd966",
   "metadata": {},
   "outputs": [],
   "source": []
  }
 ],
 "metadata": {
  "kernelspec": {
   "display_name": "Python 3",
   "language": "python",
   "name": "python3"
  },
  "language_info": {
   "codemirror_mode": {
    "name": "ipython",
    "version": 3
   },
   "file_extension": ".py",
   "mimetype": "text/x-python",
   "name": "python",
   "nbconvert_exporter": "python",
   "pygments_lexer": "ipython3",
   "version": "3.8.8"
  }
 },
 "nbformat": 4,
 "nbformat_minor": 5
}
