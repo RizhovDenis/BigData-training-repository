{
 "cells": [
  {
   "cell_type": "code",
   "execution_count": 8,
   "id": "1b9ac4d5",
   "metadata": {},
   "outputs": [],
   "source": [
    "import requests\n",
    "from appid import appid"
   ]
  },
  {
   "cell_type": "markdown",
   "id": "5a58101b",
   "metadata": {},
   "source": [
    "# Create query London's forecast in openweathermap"
   ]
  },
  {
   "cell_type": "code",
   "execution_count": null,
   "id": "58ef4d52",
   "metadata": {},
   "outputs": [],
   "source": [
    "# Find id London"
   ]
  },
  {
   "cell_type": "code",
   "execution_count": 66,
   "id": "83ab2a28",
   "metadata": {},
   "outputs": [],
   "source": [
    "\n",
    "city = 'London,GB'\n",
    "res = requests.get(url=\"http://api.openweathermap.org/data/2.5/find\",\n",
    "                       params={'q': city, 'units':'metric', 'type':'like', 'appid': appid})\n"
   ]
  },
  {
   "cell_type": "code",
   "execution_count": 67,
   "id": "292f98da",
   "metadata": {},
   "outputs": [],
   "source": [
    "data = res.json()"
   ]
  },
  {
   "cell_type": "code",
   "execution_count": 68,
   "id": "fae36914",
   "metadata": {},
   "outputs": [
    {
     "data": {
      "text/plain": [
       "{'message': 'like',\n",
       " 'cod': '200',\n",
       " 'count': 1,\n",
       " 'list': [{'id': 2643743,\n",
       "   'name': 'London',\n",
       "   'coord': {'lat': 51.5085, 'lon': -0.1257},\n",
       "   'main': {'temp': 8.21,\n",
       "    'feels_like': 4.91,\n",
       "    'temp_min': 7.14,\n",
       "    'temp_max': 9.1,\n",
       "    'pressure': 1001,\n",
       "    'humidity': 79},\n",
       "   'dt': 1644753899,\n",
       "   'wind': {'speed': 6.17, 'deg': 180},\n",
       "   'sys': {'country': 'GB'},\n",
       "   'rain': None,\n",
       "   'snow': None,\n",
       "   'clouds': {'all': 100},\n",
       "   'weather': [{'id': 804,\n",
       "     'main': 'Clouds',\n",
       "     'description': 'overcast clouds',\n",
       "     'icon': '04d'}]}]}"
      ]
     },
     "execution_count": 68,
     "metadata": {},
     "output_type": "execute_result"
    }
   ],
   "source": [
    "data"
   ]
  },
  {
   "cell_type": "code",
   "execution_count": 77,
   "id": "2d746685",
   "metadata": {},
   "outputs": [],
   "source": [
    "# Save London's id for next query\n",
    "id_London = data['list'][0]['id']"
   ]
  },
  {
   "cell_type": "code",
   "execution_count": 98,
   "id": "51d24db6",
   "metadata": {},
   "outputs": [],
   "source": [
    "# Create query current wheather in London\n",
    "res = requests.get(\"https://api.openweathermap.org/data/2.5/weather\",\n",
    "                  params = {'id':id_London, 'lang':'en', 'units': 'metric', 'appid':appid})"
   ]
  },
  {
   "cell_type": "code",
   "execution_count": 99,
   "id": "dd3db579",
   "metadata": {},
   "outputs": [],
   "source": [
    "data = res.json()"
   ]
  },
  {
   "cell_type": "code",
   "execution_count": 100,
   "id": "b3c81d2c",
   "metadata": {},
   "outputs": [
    {
     "data": {
      "text/plain": [
       "{'coord': {'lon': -0.1257, 'lat': 51.5085},\n",
       " 'weather': [{'id': 501,\n",
       "   'main': 'Rain',\n",
       "   'description': 'moderate rain',\n",
       "   'icon': '10d'}],\n",
       " 'base': 'stations',\n",
       " 'main': {'temp': 8.35,\n",
       "  'feels_like': 5.27,\n",
       "  'temp_min': 7.07,\n",
       "  'temp_max': 9.27,\n",
       "  'pressure': 999,\n",
       "  'humidity': 80},\n",
       " 'visibility': 10000,\n",
       " 'wind': {'speed': 5.66, 'deg': 170},\n",
       " 'rain': {'1h': 1.33},\n",
       " 'clouds': {'all': 100},\n",
       " 'dt': 1644757797,\n",
       " 'sys': {'type': 2,\n",
       "  'id': 2019646,\n",
       "  'country': 'GB',\n",
       "  'sunrise': 1644736720,\n",
       "  'sunset': 1644772258},\n",
       " 'timezone': 0,\n",
       " 'id': 2643743,\n",
       " 'name': 'London',\n",
       " 'cod': 200}"
      ]
     },
     "execution_count": 100,
     "metadata": {},
     "output_type": "execute_result"
    }
   ],
   "source": [
    "data"
   ]
  },
  {
   "cell_type": "code",
   "execution_count": 101,
   "id": "658a7eb1",
   "metadata": {},
   "outputs": [
    {
     "name": "stdout",
     "output_type": "stream",
     "text": [
      "13.02.2022 16:22\n",
      "Weather in London\n",
      "condition: moderate rain\n",
      "min temp: 7.07\n",
      "max temp: 9.27\n"
     ]
    }
   ],
   "source": [
    "print('13.02.2022 16:22')\n",
    "print ('Weather in London')\n",
    "print('condition:', data['weather'][0]['description'])\n",
    "print('min temp:', data['main']['temp_min'])\n",
    "print('max temp:', data['main']['temp_max'])"
   ]
  },
  {
   "cell_type": "code",
   "execution_count": 141,
   "id": "d52de33b",
   "metadata": {},
   "outputs": [],
   "source": [
    "# Get forecast weather 5 days in London \n",
    "res = requests.get(\"https://api.openweathermap.org/data/2.5/forecast\",\n",
    "                  params={'id':id_London,'lang':'en', 'units':'metric', 'appid':appid})"
   ]
  },
  {
   "cell_type": "code",
   "execution_count": 142,
   "id": "b19d5a7f",
   "metadata": {},
   "outputs": [
    {
     "data": {
      "text/plain": [
       "<Response [200]>"
      ]
     },
     "execution_count": 142,
     "metadata": {},
     "output_type": "execute_result"
    }
   ],
   "source": [
    "res"
   ]
  },
  {
   "cell_type": "code",
   "execution_count": 143,
   "id": "a93c635e",
   "metadata": {},
   "outputs": [],
   "source": [
    "data = res.json()"
   ]
  },
  {
   "cell_type": "code",
   "execution_count": 147,
   "id": "289d28cf",
   "metadata": {},
   "outputs": [
    {
     "data": {
      "text/plain": [
       "{'dt': 1644764400,\n",
       " 'main': {'temp': 8.17,\n",
       "  'feels_like': 4.06,\n",
       "  'temp_min': 8.17,\n",
       "  'temp_max': 8.25,\n",
       "  'pressure': 999,\n",
       "  'sea_level': 999,\n",
       "  'grnd_level': 993,\n",
       "  'humidity': 82,\n",
       "  'temp_kf': -0.08},\n",
       " 'weather': [{'id': 500,\n",
       "   'main': 'Rain',\n",
       "   'description': 'light rain',\n",
       "   'icon': '10d'}],\n",
       " 'clouds': {'all': 100},\n",
       " 'wind': {'speed': 8.88, 'deg': 188, 'gust': 19.5},\n",
       " 'visibility': 10000,\n",
       " 'pop': 1,\n",
       " 'rain': {'3h': 1.93},\n",
       " 'sys': {'pod': 'd'},\n",
       " 'dt_txt': '2022-02-13 15:00:00'}"
      ]
     },
     "execution_count": 147,
     "metadata": {},
     "output_type": "execute_result"
    }
   ],
   "source": [
    "data['list'][0]"
   ]
  },
  {
   "cell_type": "code",
   "execution_count": 152,
   "id": "c2cdb8ec",
   "metadata": {},
   "outputs": [
    {
     "name": "stdout",
     "output_type": "stream",
     "text": [
      "London 5 days forecast\n",
      "2022-02-13 15:00:00 weather: light rain , temp: 8.17\n",
      "2022-02-13 18:00:00 weather: light rain , temp: 8.68\n",
      "2022-02-13 21:00:00 weather: light rain , temp: 9.28\n",
      "2022-02-14 00:00:00 weather: light rain , temp: 9.92\n",
      "2022-02-14 03:00:00 weather: light rain , temp: 8.12\n",
      "2022-02-14 06:00:00 weather: overcast clouds , temp: 7.04\n",
      "2022-02-14 09:00:00 weather: overcast clouds , temp: 6.77\n",
      "2022-02-14 12:00:00 weather: broken clouds , temp: 8.8\n",
      "2022-02-14 15:00:00 weather: overcast clouds , temp: 8.86\n",
      "2022-02-14 18:00:00 weather: broken clouds , temp: 7.47\n",
      "2022-02-14 21:00:00 weather: overcast clouds , temp: 6.78\n",
      "2022-02-15 00:00:00 weather: overcast clouds , temp: 6.68\n",
      "2022-02-15 03:00:00 weather: few clouds , temp: 4.57\n",
      "2022-02-15 06:00:00 weather: broken clouds , temp: 4.78\n",
      "2022-02-15 09:00:00 weather: overcast clouds , temp: 7.84\n",
      "2022-02-15 12:00:00 weather: light rain , temp: 9.12\n",
      "2022-02-15 15:00:00 weather: light rain , temp: 9.45\n",
      "2022-02-15 18:00:00 weather: moderate rain , temp: 9.15\n",
      "2022-02-15 21:00:00 weather: light rain , temp: 6.74\n",
      "2022-02-16 00:00:00 weather: overcast clouds , temp: 6.57\n",
      "2022-02-16 03:00:00 weather: light rain , temp: 8.2\n",
      "2022-02-16 06:00:00 weather: overcast clouds , temp: 10.63\n",
      "2022-02-16 09:00:00 weather: overcast clouds , temp: 11.24\n",
      "2022-02-16 12:00:00 weather: overcast clouds , temp: 12.1\n",
      "2022-02-16 15:00:00 weather: overcast clouds , temp: 12.64\n",
      "2022-02-16 18:00:00 weather: overcast clouds , temp: 12.55\n",
      "2022-02-16 21:00:00 weather: light rain , temp: 12.61\n",
      "2022-02-17 00:00:00 weather: overcast clouds , temp: 9.1\n",
      "2022-02-17 03:00:00 weather: broken clouds , temp: 7.59\n",
      "2022-02-17 06:00:00 weather: broken clouds , temp: 6.52\n",
      "2022-02-17 09:00:00 weather: light rain , temp: 6.27\n",
      "2022-02-17 12:00:00 weather: light rain , temp: 10.05\n",
      "2022-02-17 15:00:00 weather: few clouds , temp: 10.53\n",
      "2022-02-17 18:00:00 weather: few clouds , temp: 8.77\n",
      "2022-02-17 21:00:00 weather: scattered clouds , temp: 7.91\n",
      "2022-02-18 00:00:00 weather: broken clouds , temp: 8.02\n",
      "2022-02-18 03:00:00 weather: overcast clouds , temp: 9.38\n",
      "2022-02-18 06:00:00 weather: overcast clouds , temp: 10.79\n",
      "2022-02-18 09:00:00 weather: overcast clouds , temp: 11.76\n",
      "2022-02-18 12:00:00 weather: light rain , temp: 12.27\n"
     ]
    }
   ],
   "source": [
    "print('London 5 days forecast')\n",
    "for j in range(len(data['list'])):\n",
    "    print(data['list'][j]['dt_txt'], 'weather:',\n",
    "          data['list'][j]['weather'][0]['description'],\n",
    "          ', temp:', data['list'][j]['main']['temp'] )"
   ]
  },
  {
   "cell_type": "markdown",
   "id": "588e7937",
   "metadata": {},
   "source": [
    "# Print Moscow forecast"
   ]
  },
  {
   "cell_type": "code",
   "execution_count": 153,
   "id": "248e2583",
   "metadata": {},
   "outputs": [],
   "source": [
    "# find Moscow id\n",
    "res = requests.get(url=\"http://api.openweathermap.org/data/2.5/find\",\n",
    "                       params={'q': 'Moscow, RU', 'units':'metric', 'type':'like', 'appid': appid})"
   ]
  },
  {
   "cell_type": "code",
   "execution_count": 155,
   "id": "c4504e21",
   "metadata": {},
   "outputs": [],
   "source": [
    "data = res.json()"
   ]
  },
  {
   "cell_type": "code",
   "execution_count": 158,
   "id": "5405592c",
   "metadata": {},
   "outputs": [],
   "source": [
    "Moscow_id = data['list'][0]['id']"
   ]
  },
  {
   "cell_type": "code",
   "execution_count": 159,
   "id": "d33c45e1",
   "metadata": {},
   "outputs": [],
   "source": [
    "# make Moscow 5 days forecats "
   ]
  },
  {
   "cell_type": "code",
   "execution_count": 166,
   "id": "4f4d0a2c",
   "metadata": {},
   "outputs": [],
   "source": [
    "res = requests.get(\"https://api.openweathermap.org/data/2.5/forecast\",\n",
    "                  params={'id':Moscow_id,'lang':'en', 'units':'metric', 'appid':appid})\n"
   ]
  },
  {
   "cell_type": "code",
   "execution_count": 167,
   "id": "0dbcd4f2",
   "metadata": {},
   "outputs": [],
   "source": [
    "data = res.json()"
   ]
  },
  {
   "cell_type": "code",
   "execution_count": 168,
   "id": "701761fd",
   "metadata": {},
   "outputs": [
    {
     "name": "stdout",
     "output_type": "stream",
     "text": [
      "Moscow 5 days forecast\n",
      "2022-02-13 15:00:00 weather: overcast clouds , temp: -0.06\n",
      "2022-02-13 18:00:00 weather: overcast clouds , temp: -1.47\n",
      "2022-02-13 21:00:00 weather: overcast clouds , temp: -3.19\n",
      "2022-02-14 00:00:00 weather: overcast clouds , temp: -4.21\n",
      "2022-02-14 03:00:00 weather: overcast clouds , temp: -4.11\n",
      "2022-02-14 06:00:00 weather: overcast clouds , temp: -4.45\n",
      "2022-02-14 09:00:00 weather: overcast clouds , temp: -2.47\n",
      "2022-02-14 12:00:00 weather: overcast clouds , temp: -1.14\n",
      "2022-02-14 15:00:00 weather: overcast clouds , temp: -1.75\n",
      "2022-02-14 18:00:00 weather: overcast clouds , temp: -2.34\n",
      "2022-02-14 21:00:00 weather: overcast clouds , temp: -2.54\n",
      "2022-02-15 00:00:00 weather: overcast clouds , temp: -2.24\n",
      "2022-02-15 03:00:00 weather: overcast clouds , temp: -2.88\n",
      "2022-02-15 06:00:00 weather: overcast clouds , temp: -3.48\n",
      "2022-02-15 09:00:00 weather: overcast clouds , temp: -1.25\n",
      "2022-02-15 12:00:00 weather: overcast clouds , temp: 0.16\n",
      "2022-02-15 15:00:00 weather: overcast clouds , temp: -3.24\n",
      "2022-02-15 18:00:00 weather: broken clouds , temp: -5.02\n",
      "2022-02-15 21:00:00 weather: clear sky , temp: -5.69\n",
      "2022-02-16 00:00:00 weather: clear sky , temp: -6.51\n",
      "2022-02-16 03:00:00 weather: scattered clouds , temp: -9.1\n",
      "2022-02-16 06:00:00 weather: broken clouds , temp: -8.57\n",
      "2022-02-16 09:00:00 weather: overcast clouds , temp: -3.46\n",
      "2022-02-16 12:00:00 weather: overcast clouds , temp: -1.34\n",
      "2022-02-16 15:00:00 weather: few clouds , temp: -3.45\n",
      "2022-02-16 18:00:00 weather: broken clouds , temp: -1.86\n",
      "2022-02-16 21:00:00 weather: overcast clouds , temp: -0.59\n",
      "2022-02-17 00:00:00 weather: overcast clouds , temp: 0.73\n",
      "2022-02-17 03:00:00 weather: overcast clouds , temp: 0.9\n",
      "2022-02-17 06:00:00 weather: light snow , temp: 0.73\n",
      "2022-02-17 09:00:00 weather: light snow , temp: 0.81\n",
      "2022-02-17 12:00:00 weather: light snow , temp: 1.02\n",
      "2022-02-17 15:00:00 weather: overcast clouds , temp: 1.21\n",
      "2022-02-17 18:00:00 weather: light snow , temp: 1.19\n",
      "2022-02-17 21:00:00 weather: light rain , temp: 1.39\n",
      "2022-02-18 00:00:00 weather: light rain , temp: 1.48\n",
      "2022-02-18 03:00:00 weather: light snow , temp: 1.23\n",
      "2022-02-18 06:00:00 weather: overcast clouds , temp: 0.84\n",
      "2022-02-18 09:00:00 weather: overcast clouds , temp: 0.68\n",
      "2022-02-18 12:00:00 weather: overcast clouds , temp: 1\n"
     ]
    }
   ],
   "source": [
    "print('Moscow 5 days forecast')\n",
    "for j in range(len(data['list'])):\n",
    "    print(data['list'][j]['dt_txt'], 'weather:',\n",
    "          data['list'][j]['weather'][0]['description'],\n",
    "          ', temp:', data['list'][j]['main']['temp'] )"
   ]
  },
  {
   "cell_type": "code",
   "execution_count": null,
   "id": "9f9db703",
   "metadata": {},
   "outputs": [],
   "source": []
  }
 ],
 "metadata": {
  "kernelspec": {
   "display_name": "Python 3 (ipykernel)",
   "language": "python",
   "name": "python3"
  },
  "language_info": {
   "codemirror_mode": {
    "name": "ipython",
    "version": 3
   },
   "file_extension": ".py",
   "mimetype": "text/x-python",
   "name": "python",
   "nbconvert_exporter": "python",
   "pygments_lexer": "ipython3",
   "version": "3.9.7"
  }
 },
 "nbformat": 4,
 "nbformat_minor": 5
}
