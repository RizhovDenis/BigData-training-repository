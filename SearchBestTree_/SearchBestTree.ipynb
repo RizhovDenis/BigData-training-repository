{
 "cells": [
  {
   "cell_type": "code",
   "execution_count": 12,
   "id": "5e8457e9",
   "metadata": {},
   "outputs": [],
   "source": [
    "import pandas as pd\n",
    "from sklearn.tree import DecisionTreeClassifier\n",
    "from sklearn.model_selection import GridSearchCV\n",
    "from sklearn.model_selection import RandomizedSearchCV\n",
    "from sklearn.datasets import load_iris\n",
    "from sklearn import tree"
   ]
  },
  {
   "cell_type": "code",
   "execution_count": 13,
   "id": "1c42db3b",
   "metadata": {},
   "outputs": [],
   "source": [
    "iris = load_iris()\n",
    "X = iris.data\n",
    "y = iris.target"
   ]
  },
  {
   "cell_type": "markdown",
   "id": "fae1da6a",
   "metadata": {},
   "source": [
    "# Поиск лучшего дерева с помощью GridSearchCV"
   ]
  },
  {
   "cell_type": "code",
   "execution_count": 6,
   "id": "364e10fc",
   "metadata": {},
   "outputs": [
    {
     "data": {
      "text/plain": [
       "GridSearchCV(estimator=DecisionTreeClassifier(),\n",
       "             param_grid={'criterion': ['entropy'], 'max_depth': range(1, 10),\n",
       "                         'min_samples_leaf': range(1, 10),\n",
       "                         'min_samples_split': range(2, 10)})"
      ]
     },
     "execution_count": 6,
     "metadata": {},
     "output_type": "execute_result"
    }
   ],
   "source": [
    "dt = tree.DecisionTreeClassifier() # Создраем пустое дерево\n",
    "parametrs = {'criterion':['entropy'], 'max_depth':range(1,10),'min_samples_split':range(2,10),'min_samples_leaf':range(1,10)}\n",
    "search = GridSearchCV(dt, parametrs) # Ищим лучшее дерево"
   ]
  },
  {
   "cell_type": "code",
   "execution_count": 7,
   "id": "8d9e5f32",
   "metadata": {},
   "outputs": [
    {
     "data": {
      "text/plain": [
       "GridSearchCV(estimator=DecisionTreeClassifier(),\n",
       "             param_grid={'criterion': ['entropy'], 'max_depth': range(1, 10),\n",
       "                         'min_samples_leaf': range(1, 10),\n",
       "                         'min_samples_split': range(2, 10)})"
      ]
     },
     "execution_count": 7,
     "metadata": {},
     "output_type": "execute_result"
    }
   ],
   "source": [
    "search.fit(X, y)"
   ]
  },
  {
   "cell_type": "code",
   "execution_count": 9,
   "id": "52d50813",
   "metadata": {},
   "outputs": [],
   "source": [
    "best_tree = search.best_estimator_"
   ]
  },
  {
   "cell_type": "code",
   "execution_count": 11,
   "id": "01338921",
   "metadata": {},
   "outputs": [
    {
     "data": {
      "text/plain": [
       "DecisionTreeClassifier(criterion='entropy', max_depth=8)"
      ]
     },
     "execution_count": 11,
     "metadata": {},
     "output_type": "execute_result"
    }
   ],
   "source": [
    "best_tree"
   ]
  },
  {
   "cell_type": "markdown",
   "id": "d844ba1b",
   "metadata": {},
   "source": [
    "# Поиск лучшего дерева с помощью RandomizedSearchCV"
   ]
  },
  {
   "cell_type": "markdown",
   "id": "7c6256d5",
   "metadata": {},
   "source": [
    "Делает перебор быстрее, но иногда может пропустить хорошую модель"
   ]
  },
  {
   "cell_type": "code",
   "execution_count": 20,
   "id": "496f090f",
   "metadata": {},
   "outputs": [],
   "source": [
    "iris = load_iris()\n",
    "X = iris.data\n",
    "y = iris.target"
   ]
  },
  {
   "cell_type": "code",
   "execution_count": 51,
   "id": "ec02329d",
   "metadata": {},
   "outputs": [],
   "source": [
    "dt_two = tree.DecisionTreeClassifier() # Создраем пустое дерево\n",
    "parametrs = {'criterion':['entropy'], 'max_depth':range(1,10),'min_samples_split':range(2,10),'min_samples_leaf':range(1,10)}\n",
    "random_search = RandomizedSearchCV(dt_two, parametrs, n_iter=20)"
   ]
  },
  {
   "cell_type": "code",
   "execution_count": 52,
   "id": "2c4bf215",
   "metadata": {},
   "outputs": [
    {
     "data": {
      "text/plain": [
       "RandomizedSearchCV(estimator=DecisionTreeClassifier(), n_iter=20,\n",
       "                   param_distributions={'criterion': ['entropy'],\n",
       "                                        'max_depth': range(1, 10),\n",
       "                                        'min_samples_leaf': range(1, 10),\n",
       "                                        'min_samples_split': range(2, 10)})"
      ]
     },
     "execution_count": 52,
     "metadata": {},
     "output_type": "execute_result"
    }
   ],
   "source": [
    "random_search.fit(X, y)"
   ]
  },
  {
   "cell_type": "code",
   "execution_count": 56,
   "id": "c6acc652",
   "metadata": {},
   "outputs": [
    {
     "data": {
      "text/plain": [
       "DecisionTreeClassifier(criterion='entropy', max_depth=3, min_samples_split=6)"
      ]
     },
     "execution_count": 56,
     "metadata": {},
     "output_type": "execute_result"
    }
   ],
   "source": [
    "best_tree_two = random_search.best_estimator_\n",
    "best_tree_two # рандомный подбор лучшего дерева в данном случае проходит 20 рандомных итераций"
   ]
  },
  {
   "cell_type": "code",
   "execution_count": null,
   "id": "5c1c530d",
   "metadata": {},
   "outputs": [],
   "source": []
  }
 ],
 "metadata": {
  "kernelspec": {
   "display_name": "Python 3",
   "language": "python",
   "name": "python3"
  },
  "language_info": {
   "codemirror_mode": {
    "name": "ipython",
    "version": 3
   },
   "file_extension": ".py",
   "mimetype": "text/x-python",
   "name": "python",
   "nbconvert_exporter": "python",
   "pygments_lexer": "ipython3",
   "version": "3.8.8"
  }
 },
 "nbformat": 4,
 "nbformat_minor": 5
}
